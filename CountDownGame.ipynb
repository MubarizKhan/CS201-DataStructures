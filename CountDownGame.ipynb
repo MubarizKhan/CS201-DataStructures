{
  "nbformat": 4,
  "nbformat_minor": 0,
  "metadata": {
    "colab": {
      "provenance": [],
      "collapsed_sections": [],
      "authorship_tag": "ABX9TyPm5HqbzSsrB3Kikl4v1Tl1",
      "include_colab_link": true
    },
    "kernelspec": {
      "name": "python3",
      "display_name": "Python 3"
    },
    "language_info": {
      "name": "python"
    }
  },
  "cells": [
    {
      "cell_type": "markdown",
      "metadata": {
        "id": "view-in-github",
        "colab_type": "text"
      },
      "source": [
        "<a href=\"https://colab.research.google.com/github/MubarizKhan/CS218-DataStructures-and-Algorithms-/blob/master/CountDownGame.ipynb\" target=\"_parent\"><img src=\"https://colab.research.google.com/assets/colab-badge.svg\" alt=\"Open In Colab\"/></a>"
      ]
    },
    {
      "cell_type": "code",
      "source": [
        "# Calculating how many ways there are to solve a given Countdown Number board  \n",
        "#  The Countdown numbers game is specified as follows:\n",
        "  # - Players are given six integer numbers and a target integer number  -\n",
        "  #  The six numbers should be combined using the mathematical operators + - * and / \n",
        "  # in a way that gets as close as possible to the target number. \n",
        "  #  Each number can only be used once, but it is okay not to use a number   ** \n",
        "  #  In this task we are going to find ALL possible combinations to get the target number. \n",
        "  # **   For instance if the numbers are (100,4,17,9,3,2) and the target is 37, then there are 3207 ways to get the target.\n",
        "      # (100 -((4+17)*3)); ((((100/4)-2)-3)+17); (2+((3*9)-17))+(100/4); to name but a few.  \n",
        "  #    Another example includes the numbers (1, 3, 7, 10, 25, 50) with the target number of 765.\n",
        "#  There are 780 different solutions to get that target with these number. Note that: ((1+50)(25-10)) and ((50+1)(25-10))"
      ],
      "metadata": {
        "id": "W7_pc3cxGD0Q"
      },
      "execution_count": null,
      "outputs": []
    },
    {
      "cell_type": "code",
      "execution_count": null,
      "metadata": {
        "id": "knZtSA5IFzXx"
      },
      "outputs": [],
      "source": [
        "def countdown(N,T):\n",
        "  # M is a map: (bitmask of used input numbers -> (expression value -> expression text))                  \n",
        "  M=[{} for i in range(1<<len(N))]\n",
        "\n",
        "  # initialize M with single-number expressions                                                           \n",
        "  for i in range(len(N)):\n",
        "    M[1<<i][1.0*N[i]] = \"%d\" % N[i]\n",
        "\n",
        "  # allowed operators                                                                                     \n",
        "  ops = ((\"+\",lambda x,y:x+y),(\"-\",lambda x,y:x-y),(\"*\",lambda x,y:x*y),(\"/\",lambda x,y:x/y))\n",
        "\n",
        "  # enumerate all expressions                                                                             \n",
        "  n=0\n",
        "  while 1:\n",
        "\n",
        "    # test to see if we're done (last iteration didn't change anything)                                   \n",
        "    c=0\n",
        "    for x in M: c +=len(x)\n",
        "    if c==n: break\n",
        "    n=c\n",
        "    # loop over all values we have so far, indexed by bitmask of used input numbers                       \n",
        "    for i in range(len(M)):\n",
        "      for j in range(len(M)):\n",
        "        if i & j: continue    # skip if both expressions used the same input number                       \n",
        "        for (x,s) in M[i].items():\n",
        "          for (y,t) in M[j].items():\n",
        "            if y: # avoid /0 (and +0,-0,*0 while we're at it)                                             \n",
        "              for (o,f) in ops:\n",
        "                M[i|j][f(x,y)]=\"(%s%s%s)\"%(s,o,t)\n",
        "\n",
        "  # pick best expression                                                                                  \n",
        "  L=[]\n",
        "  for t in M:\n",
        "    for(x,e) in t.items():\n",
        "      L+=[(abs(x-T),e)]\n",
        "  L.sort();\n",
        "  return L#[0][1]\n",
        "  ll = []\n",
        "  for i in range(len(L)):\n",
        "    if L[i][0] == 0:\n",
        "      ll.append(L[i])\n",
        "\n",
        "  return ll"
      ]
    },
    {
      "cell_type": "code",
      "source": [
        "l = countdown((1, 3, 7, 10, 25, 50), 765)\n",
        "# l = countdown([50, 100, 4, 2, 2, 4], 203)"
      ],
      "metadata": {
        "id": "0a9pdu9XF4EJ"
      },
      "execution_count": null,
      "outputs": []
    },
    {
      "cell_type": "code",
      "source": [
        "((50+7)*(10+3))+25"
      ],
      "metadata": {
        "colab": {
          "base_uri": "https://localhost:8080/"
        },
        "id": "o4nGHTD4Naor",
        "outputId": "2b552599-50b6-423a-cb2d-bddac494e1a2"
      },
      "execution_count": null,
      "outputs": [
        {
          "output_type": "execute_result",
          "data": {
            "text/plain": [
              "766"
            ]
          },
          "metadata": {},
          "execution_count": 30
        }
      ]
    },
    {
      "cell_type": "code",
      "source": [
        "((25+10)/(7/(1+50)))*3"
      ],
      "metadata": {
        "id": "LjEw27LQNmCk",
        "outputId": "a5bbb41d-e264-4f95-c736-22e0e69d29b2",
        "colab": {
          "base_uri": "https://localhost:8080/"
        }
      },
      "execution_count": null,
      "outputs": [
        {
          "output_type": "execute_result",
          "data": {
            "text/plain": [
              "764.9999999999999"
            ]
          },
          "metadata": {},
          "execution_count": 33
        }
      ]
    },
    {
      "cell_type": "code",
      "source": [
        "l"
      ],
      "metadata": {
        "id": "tTpPImyXKAPX"
      },
      "execution_count": null,
      "outputs": []
    },
    {
      "cell_type": "code",
      "source": [
        "type(l[1][1])"
      ],
      "metadata": {
        "colab": {
          "base_uri": "https://localhost:8080/"
        },
        "id": "E1tfcA4rJkmq",
        "outputId": "fa33b94d-00b6-4652-ef64-8043cc426e51"
      },
      "execution_count": null,
      "outputs": [
        {
          "output_type": "execute_result",
          "data": {
            "text/plain": [
              "str"
            ]
          },
          "metadata": {},
          "execution_count": 13
        }
      ]
    },
    {
      "cell_type": "code",
      "source": [
        "((50/4)/4)+((2+100)*2)"
      ],
      "metadata": {
        "colab": {
          "base_uri": "https://localhost:8080/"
        },
        "id": "zVrXKQuoJoqO",
        "outputId": "08d3afc6-6e32-4b65-a363-0da8447cb3e7"
      },
      "execution_count": null,
      "outputs": [
        {
          "output_type": "execute_result",
          "data": {
            "text/plain": [
              "207.125"
            ]
          },
          "metadata": {},
          "execution_count": 9
        }
      ]
    },
    {
      "cell_type": "code",
      "source": [
        "# l\n",
        "\n",
        "((((4+2)*(2+100))/4)+50)\n",
        "(((100-(2/4))*2)+4)\n",
        "(((4*50)-(2/2))+4)\n",
        "(((4-(2/100))*50)+4)\n",
        "(((4-(2/100))*50)+4)"
      ],
      "metadata": {
        "colab": {
          "base_uri": "https://localhost:8080/"
        },
        "id": "iB_0ID8bKCRT",
        "outputId": "460cf8c2-5dab-4bf4-cad7-430324279498"
      },
      "execution_count": null,
      "outputs": [
        {
          "output_type": "execute_result",
          "data": {
            "text/plain": [
              "203.0"
            ]
          },
          "metadata": {},
          "execution_count": 15
        }
      ]
    },
    {
      "cell_type": "code",
      "source": [
        "test1 = []"
      ],
      "metadata": {
        "id": "xq2lBjIWGR0i"
      },
      "execution_count": null,
      "outputs": []
    }
  ]
}