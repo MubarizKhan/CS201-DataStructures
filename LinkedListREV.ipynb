{
  "nbformat": 4,
  "nbformat_minor": 0,
  "metadata": {
    "colab": {
      "provenance": [],
      "authorship_tag": "ABX9TyNNzGF6/BKSQjBQ2FB9VDpk",
      "include_colab_link": true
    },
    "kernelspec": {
      "name": "python3",
      "display_name": "Python 3"
    },
    "language_info": {
      "name": "python"
    }
  },
  "cells": [
    {
      "cell_type": "markdown",
      "metadata": {
        "id": "view-in-github",
        "colab_type": "text"
      },
      "source": [
        "<a href=\"https://colab.research.google.com/github/MubarizKhan/CS218-DataStructures-and-Algorithms-/blob/master/LinkedListREV.ipynb\" target=\"_parent\"><img src=\"https://colab.research.google.com/assets/colab-badge.svg\" alt=\"Open In Colab\"/></a>"
      ]
    },
    {
      "cell_type": "code",
      "execution_count": null,
      "metadata": {
        "id": "0LnyZpeu-j6l"
      },
      "outputs": [],
      "source": [
        "class Node:\n",
        "  def __init__(self, val):\n",
        "    self.val = val\n",
        "    self.next = None"
      ]
    },
    {
      "cell_type": "code",
      "source": [
        "class List(Node):\n",
        "  def __init__(self):\n",
        "    self.head = None\n",
        "  \n",
        "  def push(self,val):\n",
        "    node = Node(val)\n",
        "    l = []\n",
        "\n",
        "    if self.head is None:\n",
        "      self.head = node\n",
        "      l.append(self.head.val)\n",
        "      return l\n",
        "\n",
        "    temp = self.head\n",
        "    while temp.next is not None:\n",
        "        l.append(temp.val)\n",
        "        temp = temp.next\n",
        "        \n",
        "        # print(l)\n",
        "    temp.next = node\n",
        "    l.append(temp.next.val)\n",
        "    return l\n",
        "\n",
        "  def __str__(self):\n",
        "    temp = self.head\n",
        "    ret = \"[\"\n",
        "    if temp is None:\n",
        "      print('? u r shit')\n",
        "    while temp is not None:\n",
        "      ret += str(temp.val) + \", \"\n",
        "      temp = temp.next\n",
        "\n",
        "    ret += \"]\" \n",
        "    \n",
        "    return ret\n",
        "\n",
        "  \n"
      ],
      "metadata": {
        "id": "_pPfVNTM_pdS"
      },
      "execution_count": null,
      "outputs": []
    },
    {
      "cell_type": "code",
      "source": [
        "def insert(self, index, val):\n",
        "  \"\"\"\n",
        "    This method is supposed to take an index, and insert value at that index\n",
        "  \"\"\"\n",
        "  new_node = Node(val)\n",
        "  \n",
        "  \n",
        "\n",
        "  if index == 0:\n",
        "    new_node.next = self.head\n",
        "    self.head = new_node\n",
        "    return \n",
        "\n",
        "  count_ofIndex = 0\n",
        "  temp = self.head\n",
        "  prev = temp\n",
        "  while temp is not None and count_ofIndex < index:\n",
        "    prev = temp\n",
        "    temp = temp.next\n",
        "    count_ofIndex += 1\n",
        "    \n",
        "  \n",
        "  prev.next = new_node\n",
        "  new_node.next = temp\n",
        "\n",
        "List.insert = insert"
      ],
      "metadata": {
        "id": "BhG-8XZ3INn4"
      },
      "execution_count": null,
      "outputs": []
    },
    {
      "cell_type": "code",
      "source": [
        "def pop(self):\n",
        "  temp = self.head\n",
        "  # prev = temp\n",
        "  while temp.next is not None:\n",
        "    prev = temp\n",
        "    temp = temp.next\n",
        "  \n",
        "  prev.next = None\n",
        "\n",
        "List.pop = pop"
      ],
      "metadata": {
        "id": "z4oO2G5hR5Gq"
      },
      "execution_count": null,
      "outputs": []
    },
    {
      "cell_type": "code",
      "source": [
        "def removebyIndex(self, index):\n",
        "  temp = self.head \n",
        "  if index == 0:\n",
        "    self.head = self.head.next\n",
        "    return\n",
        "\n",
        "  counter = 0\n",
        "  while temp.next is not None and counter < index:\n",
        "    prev = temp\n",
        "    temp = temp.next\n",
        "    counter += 1\n",
        "\n",
        "  prev.next = temp.next\n",
        "  return\n",
        "\n",
        "List.removebyIndex = removebyIndex"
      ],
      "metadata": {
        "id": "F7yuEJg6TWfK"
      },
      "execution_count": null,
      "outputs": []
    },
    {
      "cell_type": "code",
      "source": [],
      "metadata": {
        "id": "MxPm0M7dUgmp"
      },
      "execution_count": null,
      "outputs": []
    },
    {
      "cell_type": "code",
      "source": [
        "l = List()\n",
        "for i in range(15):\n",
        "  # print(l.push(int(i)))\n",
        "  l.push(i)\n",
        "  # print(l)\n",
        "  "
      ],
      "metadata": {
        "id": "oGTBbDnUA12X"
      },
      "execution_count": null,
      "outputs": []
    },
    {
      "cell_type": "code",
      "source": [
        "print(l)"
      ],
      "metadata": {
        "colab": {
          "base_uri": "https://localhost:8080/"
        },
        "id": "hr5nP19hA8U-",
        "outputId": "e2897cff-95ff-40ca-c5d6-e3cde58c33da"
      },
      "execution_count": null,
      "outputs": [
        {
          "output_type": "stream",
          "name": "stdout",
          "text": [
            "[0, 1, 2, 3, 4, 5, 6, 7, 8, 9, 10, 11, 12, 13, 14, 16, ]\n"
          ]
        }
      ]
    },
    {
      "cell_type": "code",
      "source": [
        "l.insert(0, 15)\n",
        "print(l)"
      ],
      "metadata": {
        "colab": {
          "base_uri": "https://localhost:8080/"
        },
        "id": "KvGVNiXnHyKM",
        "outputId": "eee6c2a6-22cc-4e49-d5ae-7482fadf21ae"
      },
      "execution_count": null,
      "outputs": [
        {
          "output_type": "stream",
          "name": "stdout",
          "text": [
            "[15, 15, 0, 1, 2, 3, 4, 5, 6, 7, 8, 9, 10, 11, 12, 13, 14, 16, ]\n"
          ]
        }
      ]
    },
    {
      "cell_type": "code",
      "source": [
        "l.insert(5, 555)"
      ],
      "metadata": {
        "id": "DBgM-j9aLKvO"
      },
      "execution_count": null,
      "outputs": []
    },
    {
      "cell_type": "code",
      "source": [
        "print(l)"
      ],
      "metadata": {
        "colab": {
          "base_uri": "https://localhost:8080/"
        },
        "id": "UykoN8mNLQE2",
        "outputId": "830c382f-f5dc-45c6-c9a3-b1192812c9ce"
      },
      "execution_count": null,
      "outputs": [
        {
          "output_type": "stream",
          "name": "stdout",
          "text": [
            "[2, 3, 4, 5, 6, 7, 8, 9, 10, ]\n"
          ]
        }
      ]
    },
    {
      "cell_type": "code",
      "source": [
        "l.pop()"
      ],
      "metadata": {
        "id": "ffknWV1gRk6q"
      },
      "execution_count": null,
      "outputs": []
    },
    {
      "cell_type": "code",
      "source": [
        "l.removebyIndex(3)"
      ],
      "metadata": {
        "id": "FeWFPN6jTHHF"
      },
      "execution_count": null,
      "outputs": []
    },
    {
      "cell_type": "code",
      "source": [
        "# todo:\n",
        "#   get length, merge, sort and merge."
      ],
      "metadata": {
        "id": "-UcnkBrhT64h"
      },
      "execution_count": null,
      "outputs": []
    }
  ]
}