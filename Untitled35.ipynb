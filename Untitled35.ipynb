{
  "nbformat": 4,
  "nbformat_minor": 0,
  "metadata": {
    "colab": {
      "provenance": [],
      "authorship_tag": "ABX9TyOWgZPJt0cCgN26W0O81VL6",
      "include_colab_link": true
    },
    "kernelspec": {
      "name": "python3",
      "display_name": "Python 3"
    },
    "language_info": {
      "name": "python"
    }
  },
  "cells": [
    {
      "cell_type": "markdown",
      "metadata": {
        "id": "view-in-github",
        "colab_type": "text"
      },
      "source": [
        "<a href=\"https://colab.research.google.com/github/MubarizKhan/CS218-DataStructures-and-Algorithms-/blob/master/Untitled35.ipynb\" target=\"_parent\"><img src=\"https://colab.research.google.com/assets/colab-badge.svg\" alt=\"Open In Colab\"/></a>"
      ]
    },
    {
      "cell_type": "code",
      "execution_count": null,
      "metadata": {
        "id": "x8gSQTA1qJFF",
        "colab": {
          "base_uri": "https://localhost:8080/"
        },
        "outputId": "529a14fa-10b6-4b24-c20c-fddff1acac10"
      },
      "outputs": [
        {
          "output_type": "stream",
          "name": "stdout",
          "text": [
            "The longest Common Prefix is : gee\n"
          ]
        }
      ],
      "source": [
        "# Python 3 program to find longest\n",
        "# common prefix of given array of words.\n",
        "def longestCommonPrefix( a):\n",
        "\t\n",
        "\tsize = len(a)\n",
        "\n",
        "\t# if size is 0, return empty string\n",
        "\tif (size == 0):\n",
        "\t\treturn \"\"\n",
        "\n",
        "\tif (size == 1):\n",
        "\t\treturn a[0]\n",
        "\n",
        "\t# sort the array of strings\n",
        "\ta.sort()\n",
        "\t\n",
        "\t# find the minimum length from\n",
        "\t# first and last string\n",
        "\tend = min(len(a[0]), len(a[size - 1]))\n",
        "\n",
        "\t# find the common prefix between\n",
        "\t# the first and last string\n",
        "\ti = 0\n",
        "\twhile (i < end and\n",
        "\t\ta[0][i] == a[size - 1][i]):\n",
        "\t\ti += 1\n",
        "\n",
        "\tpre = a[0][0: i]\n",
        "\treturn pre\n",
        "\n",
        "# Driver Code\n",
        "if __name__ == \"__main__\":\n",
        "\n",
        "\tinput = [\"geeksforgeeks\", \"geeks\",\n",
        "\t\t\t\t\t\"geek\", \"geezer\"]\n",
        "\tprint(\"The longest Common Prefix is :\" ,\n",
        "\t\t\t\tlongestCommonPrefix(input))\n",
        "\n",
        "# This code is contributed by ita_c\n"
      ]
    },
    {
      "cell_type": "code",
      "source": [
        "class Solution:\n",
        "    def longestCommonPrefix(self, strs: List[str]) -> str:\n",
        "      length = len(strs)\n",
        "      if length == 0:\n",
        "        return \"\"\n",
        "      elif length ==1:\n",
        "        return strs[0]\n",
        "      \n",
        "      strs = strs.sort()\n",
        "      end = min(len(strs[0]), len(strs[length - 1]))\n",
        "\n",
        "\t    # find the common prefix between\n",
        "\t    # the first and last string\n",
        "\t    i = 0\n",
        "\t    while (i < end and strs[0][i] == strs[length - 1][i]):\n",
        "\t      i += 1\n",
        "\n",
        "\t    pre = strs[0][0: i]\n",
        "      return pre"
      ],
      "metadata": {
        "id": "ZtvinaIt_Vac"
      },
      "execution_count": null,
      "outputs": []
    },
    {
      "cell_type": "code",
      "source": [
        "def funcc(strs):\n",
        "  for i in range(len(strs)):\n",
        "    for j in range(len(strs[i])):\n",
        "      if strs[i][j] == strs[i + 1][j] and strs[i + 1][j] ==strs[i + 2][j]:\n",
        "        return strs[i][j]\n",
        "\n",
        "      else:\n",
        "        return \"0\";\n",
        "\n",
        "strs = [\"flower\", \"flow\", \"flight\"]\n",
        "\n",
        "funcc(strs)\n",
        "\n",
        "# \n",
        "# var longestCommonPrefix = function (strs) {\n",
        "  # for (let i = 0; i < strs.length; i++) {\n",
        "    # for (let j = 0; j < strs[i].length; j++) {\n",
        "      #  // console.log(strs[i+2][j]);\n",
        "      # if (strs[i][j] == strs[i + 1][j] && strs[i + 1][j] ==strs[i + 2][j]) {\n",
        "        # return (strs[i][j]);\n",
        "        # \n",
        "      # } else {\n",
        "        # return \"0\";\n",
        "      # }\n",
        "    # }\n",
        "  # }\n",
        "# };"
      ],
      "metadata": {
        "colab": {
          "base_uri": "https://localhost:8080/",
          "height": 35
        },
        "id": "sjuzvhMIHj4W",
        "outputId": "5004ebf6-39f6-4555-f4c5-7b63d3c485ea"
      },
      "execution_count": null,
      "outputs": [
        {
          "output_type": "execute_result",
          "data": {
            "application/vnd.google.colaboratory.intrinsic+json": {
              "type": "string"
            },
            "text/plain": [
              "'f'"
            ]
          },
          "metadata": {},
          "execution_count": 2
        }
      ]
    },
    {
      "cell_type": "code",
      "source": [],
      "metadata": {
        "id": "at70IhZQJxun"
      },
      "execution_count": null,
      "outputs": []
    }
  ]
}